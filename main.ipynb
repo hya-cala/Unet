{
 "cells": [
  {
   "cell_type": "markdown",
   "metadata": {},
   "source": [
    "# Train and evaluate model\n",
    "#### Calling functions in ipython notebook makes it compatible with Google Colab, which provides free GPU and TPU.\n",
    "## Import packages and python files"
   ]
  },
  {
   "cell_type": "code",
   "execution_count": null,
   "metadata": {},
   "outputs": [],
   "source": [
    "import tensorflow as tf\n",
    "from model import unet\n",
    "from pipeline import TrainGenerator, ValidationDataPreparation,TestDataPreparation\n",
    "from tensorflow.keras.callbacks import ModelCheckpoint\n",
    "import skimage.io as io\n",
    "import matplotlib.pyplot as plt\n",
    "import numpy as np"
   ]
  },
  {
   "cell_type": "markdown",
   "metadata": {},
   "source": [
    "## Load the model"
   ]
  },
  {
   "cell_type": "code",
   "execution_count": null,
   "metadata": {
    "scrolled": true
   },
   "outputs": [],
   "source": [
    "model = unet()\n",
    "input_size = 704\n",
    "try:\n",
    "    model.load_weights(\"weights.hdf5\")\n",
    "    print(\"Load weights successfully.\")\n",
    "except:\n",
    "    print(\"Cannot load weights.\")\n",
    "model.summary()"
   ]
  },
  {
   "cell_type": "markdown",
   "metadata": {},
   "source": [
    "## Prepare the pipeline for training and the data for validation."
   ]
  },
  {
   "cell_type": "code",
   "execution_count": null,
   "metadata": {},
   "outputs": [],
   "source": [
    "data_generator = TrainGenerator(batch_size = 2, target_size = input_size, deformation = False)\n",
    "val_data = ValidationDataPreparation(batch_size=1, target_size = input_size)"
   ]
  },
  {
   "cell_type": "markdown",
   "metadata": {},
   "source": [
    "## Train the model\n",
    "### The parameters will be saved only if the loss on the validation set is decreased."
   ]
  },
  {
   "cell_type": "code",
   "execution_count": null,
   "metadata": {},
   "outputs": [],
   "source": [
    "model_checkpoint = ModelCheckpoint('weights.hdf5', monitor='val_loss',verbose=1, save_best_only=True)\n",
    "model.fit(data_generator,epochs=30,steps_per_epoch = 200, validation_data = val_data,validation_steps=25, callbacks=[model_checkpoint])"
   ]
  },
  {
   "cell_type": "code",
   "execution_count": null,
   "metadata": {},
   "outputs": [],
   "source": [
    "model.evaluate(val_data,steps=25)"
   ]
  },
  {
   "cell_type": "markdown",
   "metadata": {},
   "source": [
    "## Test the model and save predictions to files.\n",
    "### Calculate the accuracy and AUROC"
   ]
  },
  {
   "cell_type": "code",
   "execution_count": null,
   "metadata": {},
   "outputs": [],
   "source": [
    "test_data = TestDataPreparation(batch_size = 5, target_size = input_size)\n",
    "model.evaluate(test_data,steps=1)"
   ]
  },
  {
   "cell_type": "markdown",
   "metadata": {},
   "source": [
    "### Save the predictions to files"
   ]
  },
  {
   "cell_type": "code",
   "execution_count": null,
   "metadata": {},
   "outputs": [],
   "source": [
    "results = model.predict(test_data,steps = 1,verbose=1)\n",
    "for i in range(5):\n",
    "    io.imsave(\"predict/%d.png\"%i,results[i])"
   ]
  },
  {
   "cell_type": "markdown",
   "metadata": {},
   "source": [
    "### Additionally, calculate the SSIM for the test data."
   ]
  },
  {
   "cell_type": "code",
   "execution_count": null,
   "metadata": {},
   "outputs": [],
   "source": [
    "im1 = tf.image.convert_image_dtype(results,np.float)\n",
    "im2 = tf.image.convert_image_dtype(next(test_data)[1], np.float)\n",
    "print(np.mean(tf.image.ssim(im1, im2, max_val=1.0).numpy()))"
   ]
  },
  {
   "cell_type": "code",
   "execution_count": null,
   "metadata": {},
   "outputs": [],
   "source": []
  }
 ],
 "metadata": {
  "kernelspec": {
   "display_name": "Python 3",
   "language": "python",
   "name": "python3"
  },
  "language_info": {
   "codemirror_mode": {
    "name": "ipython",
    "version": 3
   },
   "file_extension": ".py",
   "mimetype": "text/x-python",
   "name": "python",
   "nbconvert_exporter": "python",
   "pygments_lexer": "ipython3",
   "version": "3.7.4"
  }
 },
 "nbformat": 4,
 "nbformat_minor": 2
}
